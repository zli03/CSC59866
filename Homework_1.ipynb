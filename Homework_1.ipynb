{
  "nbformat": 4,
  "nbformat_minor": 0,
  "metadata": {
    "colab": {
      "provenance": []
    },
    "kernelspec": {
      "name": "python3",
      "display_name": "Python 3"
    },
    "language_info": {
      "name": "python"
    }
  },
  "cells": [
    {
      "cell_type": "markdown",
      "source": [
        "# Proof of the Four Backpropagation Equations (BP1 - BP4)\n",
        "\n",
        "## **Notation**\n",
        "Let:\n",
        "- $L$: Total number of layers in the network.\n",
        "- $w^l_{jk}$: Weight connecting the $k$-th neuron in layer $l-1$ to the $j$-th neuron in layer $l$.\n",
        "- $b^l_j$: Bias of the $j$-th neuron in layer $l$.\n",
        "- $z^l_j$: Weighted input to the $j$-th neuron in layer $l$, defined as:\n",
        "  $$\n",
        "  z^l_j = \\sum_k w^l_{jk} a^{l-1}_k + b^l_j\n",
        "  $$\n",
        "- $a^l_j$: Activation of the $j$-th neuron in layer $l$, defined as:\n",
        "  $$\n",
        "  a^l_j = \\sigma(z^l_j)\n",
        "  $$\n",
        "  where $\\sigma$ is the activation function.\n",
        "- $\\delta^l_j$: Error of the $j$-th neuron in layer $l$, defined as:\n",
        "  $$\n",
        "  \\delta^l_j = \\frac{\\partial C}{\\partial z^l_j}\n",
        "  $$\n",
        "  where $C$ is the cost function.\n"
      ],
      "metadata": {
        "id": "E-Va3VKIzm_V"
      }
    },
    {
      "cell_type": "markdown",
      "source": [
        "## **BP1: Output Layer Error**\n",
        "The error in the output layer $L$ is:\n",
        "$$\n",
        "\\delta^L_j = \\frac{\\partial C}{\\partial a^L_j} \\sigma'(z^L_j)\n",
        "$$\n",
        "\n",
        "**Derivation:**\n",
        "1. By the chain rule:\n",
        "   $$\n",
        "   \\delta^L_j = \\frac{\\partial C}{\\partial z^L_j} = \\frac{\\partial C}{\\partial a^L_j} \\cdot \\frac{\\partial a^L_j}{\\partial z^L_j}\n",
        "   $$\n",
        "2. Since $a^L_j = \\sigma(z^L_j)$, we have:\n",
        "   $$\n",
        "   \\frac{\\partial a^L_j}{\\partial z^L_j} = \\sigma'(z^L_j)\n",
        "   $$\n",
        "3. Substituting, we get:\n",
        "   $$\n",
        "   \\delta^L_j = \\frac{\\partial C}{\\partial a^L_j} \\sigma'(z^L_j)\n",
        "   $$"
      ],
      "metadata": {
        "id": "e2JnQW2TkH2M"
      }
    },
    {
      "cell_type": "markdown",
      "source": [
        "## **BP2: Error Propagation**\n",
        "The error in layer $l$ is related to the error in layer $l+1$ by:\n",
        "$$\n",
        "\\delta^l_j = \\sum_k w^{l+1}_{kj} \\delta^{l+1}_k \\sigma'(z^l_j)\n",
        "$$\n",
        "\n",
        "**Derivation:**\n",
        "1. By the chain rule:\n",
        "   $$\n",
        "   \\delta^l_j = \\frac{\\partial C}{\\partial z^l_j} = \\sum_k \\frac{\\partial C}{\\partial z^{l+1}_k} \\cdot \\frac{\\partial z^{l+1}_k}{\\partial z^l_j}\n",
        "   $$\n",
        "2. From the definition of $z^{l+1}_k$:\n",
        "   $$\n",
        "   z^{l+1}_k = \\sum_j w^{l+1}_{kj} a^l_j + b^{l+1}_k\n",
        "   $$\n",
        "   so:\n",
        "   $$\n",
        "   \\frac{\\partial z^{l+1}_k}{\\partial z^l_j} = w^{l+1}_{kj} \\sigma'(z^l_j)\n",
        "   $$\n",
        "3. Substituting, we get:\n",
        "   $$\n",
        "   \\delta^l_j = \\sum_k \\delta^{l+1}_k w^{l+1}_{kj} \\sigma'(z^l_j)\n",
        "   $$\n"
      ],
      "metadata": {
        "id": "69iRrhxv1Vac"
      }
    },
    {
      "cell_type": "markdown",
      "source": [
        "## **BP3: Gradient of the Cost with Respect to Biases**\n",
        "The gradient of the cost with respect to the biases is:\n",
        "$$\n",
        "\\frac{\\partial C}{\\partial b^l_j} = \\delta^l_j\n",
        "$$\n",
        "\n",
        "**Derivation:**\n",
        "1. By the chain rule:\n",
        "   $$\n",
        "   \\frac{\\partial C}{\\partial b^l_j} = \\frac{\\partial C}{\\partial z^l_j} \\cdot \\frac{\\partial z^l_j}{\\partial b^l_j}\n",
        "   $$\n",
        "2. From the definition of $z^l_j$:\n",
        "   $$\n",
        "   z^l_j = \\sum_k w^l_{jk} a^{l-1}_k + b^l_j\n",
        "   $$\n",
        "   so:\n",
        "   $$\n",
        "   \\frac{\\partial z^l_j}{\\partial b^l_j} = 1\n",
        "   $$\n",
        "3. Substituting, we get:\n",
        "   $$\n",
        "   \\frac{\\partial C}{\\partial b^l_j} = \\delta^l_j\n",
        "   $$"
      ],
      "metadata": {
        "id": "bXGxcX_ek7IC"
      }
    },
    {
      "cell_type": "markdown",
      "source": [
        "## **BP4: Gradient of the Cost with Respect to Weights**\n",
        "The gradient of the cost with respect to the weights is:\n",
        "$$\n",
        "\\frac{\\partial C}{\\partial w^l_{jk}} = a^{l-1}_k \\delta^l_j\n",
        "$$\n",
        "\n",
        "**Derivation:**\n",
        "1. By the chain rule:\n",
        "   $$\n",
        "   \\frac{\\partial C}{\\partial w^l_{jk}} = \\frac{\\partial C}{\\partial z^l_j} \\cdot \\frac{\\partial z^l_j}{\\partial w^l_{jk}}\n",
        "   $$\n",
        "2. From the definition of $z^l_j$:\n",
        "   $$\n",
        "   z^l_j = \\sum_k w^l_{jk} a^{l-1}_k + b^l_j\n",
        "   $$\n",
        "   so:\n",
        "   $$\n",
        "   \\frac{\\partial z^l_j}{\\partial w^l_{jk}} = a^{l-1}_k\n",
        "   $$\n",
        "3. Substituting, we get:\n",
        "   $$\n",
        "   \\frac{\\partial C}{\\partial w^l_{jk}} = \\delta^l_j a^{l-1}_k\n",
        "   $$"
      ],
      "metadata": {
        "id": "eiXFqzFP1ZOU"
      }
    }
  ]
}